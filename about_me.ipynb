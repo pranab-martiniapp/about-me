{
  "nbformat": 4,
  "nbformat_minor": 0,
  "metadata": {
    "colab": {
      "provenance": [],
      "toc_visible": true,
      "authorship_tag": "ABX9TyND+FI8lwW5kYwwIr1jqXas"
    },
    "kernelspec": {
      "name": "python3",
      "display_name": "Python 3"
    },
    "language_info": {
      "name": "python"
    }
  },
  "cells": [
    {
      "cell_type": "code",
      "execution_count": null,
      "metadata": {
        "id": "DgMT-9QjMu6A"
      },
      "outputs": [],
      "source": []
    },
    {
      "cell_type": "markdown",
      "source": [
        "# About Pranab Shenoy\n",
        "\n",
        "<img src=\"https://www.themartiniapp.com/_next/image?url=%2Fimages%2FPranab_Headshot.png&w=640&q=75\" alt=\"Pranab's profile photo\" width=\"300\" height=\"auto\">\n",
        "\n",
        "*I refuse to join any club that would have me as a member.* \\- **Groucho Marx**\n",
        "<br>\n",
        "<br>\n",
        "\n",
        "I am a software engineer with 15 years of work experience. I moved to Albuquerque, New Mexico in 2018. I enjoy the great southwest outdoors. I am taking the data science bootcamp to become a better software engineer. I would keep the Weather App, RideWithGPS and Discord.\n"
      ],
      "metadata": {
        "id": "N7oK778JUPx4"
      }
    },
    {
      "cell_type": "markdown",
      "source": [
        "\n",
        "## My Hobbies\n",
        "- Mountain Biking\n",
        "- Gravel riding\n",
        "<br>\n"
      ],
      "metadata": {
        "id": "Xm6AE4XCjHvp"
      }
    },
    {
      "cell_type": "markdown",
      "source": [
        "\n",
        "## Work Experience\n",
        "|Company Name|Position|Years|\n",
        "|:-|:-|:-|\n",
        "|TheMartiniApp|Chief Engineer|2022 - Present|\n",
        "|Wonolo|Growth Technical Lead|2022 - 2023|\n",
        "|YourMechanic|Principal Software Engineer|2015 - 2022|\n",
        "|Invensense|Senior Software Engineer|2012 - 2015|\n",
        "|Qualcomm|Software Engineer|2008 - 2022|\n",
        "\n",
        "<br>\n",
        "\n",
        "[LinkedIn Profile](https://www.linkedin.com/in/pranabshenoy/ \"Pranab's LinkedIn Profile\")\n"
      ],
      "metadata": {
        "id": "ZyrvRr3bjKSi"
      }
    }
  ]
}