{
  "cells": [
    {
      "cell_type": "code",
      "execution_count": null,
      "metadata": {
        "id": "DgMT-9QjMu6A"
      },
      "outputs": [],
      "source": []
    },
    {
      "cell_type": "markdown",
      "metadata": {
        "id": "N7oK778JUPx4"
      },
      "source": [
        "# About Pranab Shenoy\n",
        "\n",
        "![Profile Photo](https://www.themartiniapp.com/_next/image?url=%2Fimages%2FPranab_Headshot.png&w=640&q=75 \"Pranab's profile photo\")\n",
        "\n",
        "<img src=\"https://www.themartiniapp.com/_next/image?url=%2Fimages%2FPranab_Headshot.png&w=640&q=75\" alt=\"Pranab's profile photo\" width=\"300\" height=\"auto\">\n",
        "\n",
        "*I refuse to join any club that would have me as a member.* \\- **Groucho Marx**\n",
        "<br>\n",
        "<br>\n",
        "\n",
        "I am a software engineer with 15 years of work experience. I moved to Albuquerque, New Mexico in 2018. I enjoy the great southwest outdoors. I am taking the data science bootcamp to become a better software engineer. I would keep the Weather App, RideWithGPS and Discord.\n"
      ]
    },
    {
      "cell_type": "markdown",
      "metadata": {
        "id": "Xm6AE4XCjHvp"
      },
      "source": [
        "\n",
        "## Pranab's Hobbies\n",
        "- Mountain Biking\n",
        "- Gravel riding\n",
        "<br>\n"
      ]
    },
    {
      "cell_type": "markdown",
      "metadata": {
        "id": "ZyrvRr3bjKSi"
      },
      "source": [
        "\n",
        "## Work Experience\n",
        "|Company Name|Position|Years|\n",
        "|:-|:-|:-|\n",
        "|TheMartiniApp|Chief Engineer|2022 - Present|\n",
        "|Wonolo|Growth Technical Lead|2022 - 2023|\n",
        "|YourMechanic|Principal Software Engineer|2015 - 2022|\n",
        "|Invensense|Senior Software Engineer|2012 - 2015|\n",
        "|Qualcomm|Software Engineer|2008 - 2022|\n",
        "\n",
        "<br>\n",
        "\n",
        "[LinkedIn Profile](https://www.linkedin.com/in/pranabshenoy/ \"Pranab's LinkedIn Profile\")\n"
      ]
    }
  ],
  "metadata": {
    "colab": {
      "authorship_tag": "ABX9TyPKfPrVEV9L+frlytH2W3D4",
      "provenance": [],
      "toc_visible": true
    },
    "kernelspec": {
      "display_name": "Python 3",
      "name": "python3"
    },
    "language_info": {
      "name": "python"
    }
  },
  "nbformat": 4,
  "nbformat_minor": 0
}
